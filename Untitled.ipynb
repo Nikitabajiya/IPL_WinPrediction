{
 "cells": [
  {
   "cell_type": "code",
   "execution_count": null,
   "id": "aabfc9b7",
   "metadata": {},
   "outputs": [],
   "source": [
    "import numpy as np\n",
    "import pandas as pd"
   ]
  },
  {
   "cell_type": "code",
   "execution_count": null,
   "id": "079ed1b4",
   "metadata": {},
   "outputs": [],
   "source": [
    "match = pd.read_csv('matches.csv')\n",
    "delivery = pd.read_csv('deliveries.csv')"
   ]
  },
  {
   "cell_type": "code",
   "execution_count": null,
   "id": "bfadbf7d",
   "metadata": {},
   "outputs": [],
   "source": [
    "match.head()"
   ]
  },
  {
   "cell_type": "code",
   "execution_count": null,
   "id": "d4616531",
   "metadata": {},
   "outputs": [],
   "source": [
    "match.shape"
   ]
  },
  {
   "cell_type": "code",
   "execution_count": null,
   "id": "b9576f6a",
   "metadata": {},
   "outputs": [],
   "source": [
    "delivery.head()"
   ]
  },
  {
   "cell_type": "code",
   "execution_count": null,
   "id": "be21b391",
   "metadata": {},
   "outputs": [],
   "source": [
    "total_score_df = delivery.groupby(['match_id','inning']).sum()['total_runs'].reset_index()"
   ]
  },
  {
   "cell_type": "code",
   "execution_count": null,
   "id": "cbf8c553",
   "metadata": {},
   "outputs": [],
   "source": [
    "total_score_df = total_score_df[total_score_df['inning'] == 1]"
   ]
  },
  {
   "cell_type": "code",
   "execution_count": null,
   "id": "0e59930d",
   "metadata": {},
   "outputs": [],
   "source": [
    "total_score_df"
   ]
  },
  {
   "cell_type": "code",
   "execution_count": null,
   "id": "78c81c64",
   "metadata": {},
   "outputs": [],
   "source": [
    "match_df = match.merge(total_score_df[['match_id','total_runs']],left_on='id',right_on='match_id')"
   ]
  },
  {
   "cell_type": "code",
   "execution_count": null,
   "id": "6dad8a91",
   "metadata": {},
   "outputs": [],
   "source": [
    "match_df"
   ]
  },
  {
   "cell_type": "code",
   "execution_count": null,
   "id": "46d110b1",
   "metadata": {},
   "outputs": [],
   "source": [
    "match_df['team1'].unique()"
   ]
  },
  {
   "cell_type": "code",
   "execution_count": null,
   "id": "9f048dbf",
   "metadata": {},
   "outputs": [],
   "source": [
    "teams = [\n",
    "    'Sunrisers Hyderabad',\n",
    "    'Mumbai Indians',\n",
    "    'Royal Challengers Bangalore',\n",
    "    'Kolkata Knight Riders',\n",
    "    'Kings XI Punjab',\n",
    "    'Chennai Super Kings',\n",
    "    'Rajasthan Royals',\n",
    "    'Delhi Capitals'\n",
    "]"
   ]
  },
  {
   "cell_type": "code",
   "execution_count": null,
   "id": "4ca212ee",
   "metadata": {},
   "outputs": [],
   "source": [
    "match_df['team1'] = match_df['team1'].str.replace('Delhi Daredevils','Delhi Capitals')\n",
    "match_df['team2'] = match_df['team2'].str.replace('Delhi Daredevils','Delhi Capitals')\n",
    "\n",
    "match_df['team1'] = match_df['team1'].str.replace('Deccan Chargers','Sunrisers Hyderabad')\n",
    "match_df['team2'] = match_df['team2'].str.replace('Deccan Chargers','Sunrisers Hyderabad')"
   ]
  },
  {
   "cell_type": "code",
   "execution_count": null,
   "id": "ec3d2992",
   "metadata": {},
   "outputs": [],
   "source": [
    "match_df = match_df[match_df['team1'].isin(teams)]\n",
    "match_df = match_df[match_df['team2'].isin(teams)]"
   ]
  },
  {
   "cell_type": "code",
   "execution_count": null,
   "id": "456148f0",
   "metadata": {},
   "outputs": [],
   "source": [
    "match_df.shape"
   ]
  },
  {
   "cell_type": "code",
   "execution_count": null,
   "id": "82af99c7",
   "metadata": {},
   "outputs": [],
   "source": [
    "match_df = match_df[match_df['dl_applied'] == 0]"
   ]
  },
  {
   "cell_type": "code",
   "execution_count": null,
   "id": "bb7e68ce",
   "metadata": {},
   "outputs": [],
   "source": [
    "match_df = match_df[['match_id','city','winner','total_runs']]"
   ]
  },
  {
   "cell_type": "code",
   "execution_count": null,
   "id": "cfa8b802",
   "metadata": {},
   "outputs": [],
   "source": [
    "delivery_df = match_df.merge(delivery,on='match_id')"
   ]
  },
  {
   "cell_type": "code",
   "execution_count": null,
   "id": "bb9e3301",
   "metadata": {},
   "outputs": [],
   "source": [
    "delivery_df = delivery_df[delivery_df['inning'] == 2]"
   ]
  },
  {
   "cell_type": "code",
   "execution_count": null,
   "id": "ed062c89",
   "metadata": {},
   "outputs": [],
   "source": [
    "delivery_df"
   ]
  },
  {
   "cell_type": "code",
   "execution_count": null,
   "id": "3a2aed14",
   "metadata": {},
   "outputs": [],
   "source": [
    "delivery_df['total_runs_y'] = pd.to_numeric(delivery_df['total_runs_y'], errors='coerce')\n",
    "delivery_df['current_score'] = delivery_df.groupby('match_id')['total_runs_y'].cumsum()\n",
    "print(delivery_df)"
   ]
  },
  {
   "cell_type": "code",
   "execution_count": null,
   "id": "a37ab264",
   "metadata": {},
   "outputs": [],
   "source": [
    "delivery_df['runs_left'] = delivery_df['total_runs_x'] - delivery_df['current_score']"
   ]
  },
  {
   "cell_type": "code",
   "execution_count": null,
   "id": "91142ecc",
   "metadata": {},
   "outputs": [],
   "source": [
    "delivery_df['balls_left'] = 126 - (delivery_df['over']*6 + delivery_df['ball'])"
   ]
  },
  {
   "cell_type": "code",
   "execution_count": null,
   "id": "e49251b7",
   "metadata": {},
   "outputs": [],
   "source": [
    "delivery_df"
   ]
  },
  {
   "cell_type": "code",
   "execution_count": null,
   "id": "5ee97c37",
   "metadata": {},
   "outputs": [],
   "source": [
    "# Fill NaN values with \"0\"\n",
    "delivery_df['player_dismissed'] = delivery_df['player_dismissed'].fillna(\"0\")\n",
    "\n",
    "# Convert to 1 and 0\n",
    "delivery_df['player_dismissed'] = delivery_df['player_dismissed'].apply(lambda x: 0 if x == \"0\" else 1)\n",
    "\n",
    "# Convert to integer type\n",
    "delivery_df['player_dismissed'] = delivery_df['player_dismissed'].astype(int)\n",
    "\n",
    "# Calculate cumulative sum of wickets per match\n",
    "delivery_df['wickets'] = delivery_df.groupby('match_id')['player_dismissed'].cumsum()\n",
    "\n",
    "# Calculate remaining wickets\n",
    "delivery_df['wickets'] = 10 - delivery_df['wickets']\n",
    "\n",
    "delivery_df.head()\n"
   ]
  },
  {
   "cell_type": "code",
   "execution_count": null,
   "id": "030b9c43",
   "metadata": {},
   "outputs": [],
   "source": [
    "delivery_df.head()"
   ]
  },
  {
   "cell_type": "code",
   "execution_count": null,
   "id": "f9fe60c7",
   "metadata": {},
   "outputs": [],
   "source": [
    "# crr = runs/overs\n",
    "#delivery_df['crr'] = (delivery_df['current_score']*6)/(120 - delivery_df['balls_left'])"
   ]
  },
  {
   "cell_type": "code",
   "execution_count": null,
   "id": "7d484dea",
   "metadata": {},
   "outputs": [],
   "source": [
    "#delivery_df['rrr'] = (delivery_df['runs_left']*6)/delivery_df['balls_left']"
   ]
  },
  {
   "cell_type": "code",
   "execution_count": null,
   "id": "730c19d4",
   "metadata": {},
   "outputs": [],
   "source": [
    "#def result(row):\n",
    "    #return 1 if row['batting_team'] == row['winner'] else 0"
   ]
  },
  {
   "cell_type": "code",
   "execution_count": null,
   "id": "a49caf70",
   "metadata": {},
   "outputs": [],
   "source": [
    "#delivery_df['result'] = delivery_df.apply(result,axis=1)"
   ]
  },
  {
   "cell_type": "code",
   "execution_count": null,
   "id": "2999909b",
   "metadata": {},
   "outputs": [],
   "source": [
    "#final_df = delivery_df[['batting_team','bowling_team','city','runs_left','balls_left','wickets','total_runs_x','crr','rrr','result']]"
   ]
  },
  {
   "cell_type": "code",
   "execution_count": null,
   "id": "fb242ffd",
   "metadata": {},
   "outputs": [],
   "source": [
    "#final_df = final_df.sample(final_df.shape[0])"
   ]
  },
  {
   "cell_type": "code",
   "execution_count": null,
   "id": "3dc0b91d",
   "metadata": {},
   "outputs": [],
   "source": [
    "#final_df.sample()"
   ]
  },
  {
   "cell_type": "code",
   "execution_count": null,
   "id": "dfec0834",
   "metadata": {},
   "outputs": [],
   "source": [
    "#final_df.dropna(inplace=True)"
   ]
  },
  {
   "cell_type": "code",
   "execution_count": null,
   "id": "bafcba9c",
   "metadata": {},
   "outputs": [],
   "source": [
    "#final_df = final_df[final_df['balls_left'] != 0]"
   ]
  },
  {
   "cell_type": "code",
   "execution_count": null,
   "id": "54edf23b",
   "metadata": {},
   "outputs": [],
   "source": [
    "#X = final_df.iloc[:,:-1]\n",
    "#y = final_df.iloc[:,-1]\n",
    "#from sklearn.model_selection import train_test_split\n",
    "#X_train,X_test,y_train,y_test = train_test_split(X,y,test_size=0.2,random_state=1)"
   ]
  },
  {
   "cell_type": "code",
   "execution_count": null,
   "id": "3aa219a5",
   "metadata": {},
   "outputs": [],
   "source": [
    "#X_train"
   ]
  },
  {
   "cell_type": "code",
   "execution_count": null,
   "id": "45c6fffa",
   "metadata": {},
   "outputs": [],
   "source": [
    "#from sklearn.compose import ColumnTransformer\n",
    "#from sklearn.preprocessing import OneHotEncoder\n",
    "\n",
    "#trf = ColumnTransformer([\n",
    " #  ('trf', OneHotEncoder(sparse_output=False, drop='first'), ['batting_team', 'bowling_team', 'city'])\n",
    "#], remainder='passthrough')\n"
   ]
  },
  {
   "cell_type": "code",
   "execution_count": null,
   "id": "9be108ac",
   "metadata": {},
   "outputs": [],
   "source": [
    "from sklearn.linear_model import LogisticRegression\n",
    "from sklearn.ensemble import RandomForestClassifier\n",
    "from sklearn.pipeline import Pipeline"
   ]
  },
  {
   "cell_type": "code",
   "execution_count": null,
   "id": "92dfbfcb",
   "metadata": {},
   "outputs": [],
   "source": [
    "#pipe = Pipeline(steps=[\n",
    " #  ('step1',trf),\n",
    " # ('step2',LogisticRegression(solver='liblinear'))\n",
    "#])\n"
   ]
  },
  {
   "cell_type": "code",
   "execution_count": null,
   "id": "12679868",
   "metadata": {},
   "outputs": [],
   "source": [
    "#pipe.fit(X_train,y_train)"
   ]
  },
  {
   "cell_type": "code",
   "execution_count": null,
   "id": "cf3fde3b",
   "metadata": {},
   "outputs": [],
   "source": [
    "#y_pred = pipe.predict(X_test)"
   ]
  },
  {
   "cell_type": "code",
   "execution_count": null,
   "id": "b43ea121",
   "metadata": {},
   "outputs": [],
   "source": [
    "#from sklearn.metrics import accuracy_score\n",
    "#accuracy_score(y_test,y_pred)"
   ]
  },
  {
   "cell_type": "code",
   "execution_count": null,
   "id": "01205f46",
   "metadata": {},
   "outputs": [],
   "source": [
    "#pipe.predict_proba(X_test)[10]"
   ]
  },
  {
   "cell_type": "code",
   "execution_count": null,
   "id": "cf6fbd69",
   "metadata": {},
   "outputs": [],
   "source": [
    "#def match_summary(row):\n",
    "   # print(\"Batting Team-\" + row['batting_team'] + \" | Bowling Team-\" + row['bowling_team'] + \" | Target- \" + str(row['total_runs_x']))\n",
    "    "
   ]
  },
  {
   "cell_type": "code",
   "execution_count": null,
   "id": "41c62b45",
   "metadata": {},
   "outputs": [],
   "source": [
    "#def match_progression(x_df,match_id,pipe):\n",
    "  #  match = x_df[x_df['match_id'] == match_id]\n",
    "  #  match = match[(match['ball'] == 6)]\n",
    "  #  temp_df = match[['batting_team','bowling_team','city','runs_left','balls_left','wickets','total_runs_x','crr','rrr']].dropna()\n",
    "  #  temp_df = temp_df[temp_df['balls_left'] != 0]\n",
    "  #  result = pipe.predict_proba(temp_df)\n",
    "  #  temp_df['lose'] = np.round(result.T[0]*100,1)\n",
    "  #  temp_df['win'] = np.round(result.T[1]*100,1)\n",
    "   # temp_df['end_of_over'] = range(1,temp_df.shape[0]+1)\n",
    "    \n",
    "    #target = temp_df['total_runs_x'].values[0]\n",
    "  #  runs = list(temp_df['runs_left'].values)\n",
    "  #  new_runs = runs[:]\n",
    "  #  runs.insert(0,target)\n",
    "  #  temp_df['runs_after_over'] = np.array(runs)[:-1] - np.array(new_runs)\n",
    "   # wickets = list(temp_df['wickets'].values)\n",
    "  #  new_wickets = wickets[:]\n",
    "   # new_wickets.insert(0,10)\n",
    "   # wickets.append(0)\n",
    "   # w = np.array(wickets)\n",
    "   # nw = np.array(new_wickets)\n",
    "  #  temp_df['wickets_in_over'] = (nw - w)[0:temp_df.shape[0]]\n",
    "    \n",
    "  #  print(\"Target-\",target)\n",
    "  #  temp_df = temp_df[['end_of_over','runs_after_over','wickets_in_over','lose','win']]\n",
    "   # return temp_df,target\n",
    "   # "
   ]
  },
  {
   "cell_type": "code",
   "execution_count": null,
   "id": "d3238e65",
   "metadata": {},
   "outputs": [],
   "source": [
    "#temp_df,target = match_progression(delivery_df,74,pipe)\n",
    "#temp_df"
   ]
  },
  {
   "cell_type": "code",
   "execution_count": null,
   "id": "256b9c2d",
   "metadata": {},
   "outputs": [],
   "source": [
    "#import matplotlib.pyplot as plt\n",
    "#plt.figure(figsize=(18,8))\n",
    "#plt.plot(temp_df['end_of_over'],temp_df['wickets_in_over'],color='yellow',linewidth=3)\n",
    "#plt.plot(temp_df['end_of_over'],temp_df['win'],color='#00a65a',linewidth=4)\n",
    "#plt.plot(temp_df['end_of_over'],temp_df['lose'],color='red',linewidth=4)\n",
    "#plt.bar(temp_df['end_of_over'],temp_df['runs_after_over'])\n",
    "#plt.title('Target-' + str(target))"
   ]
  },
  {
   "cell_type": "code",
   "execution_count": null,
   "id": "5731378e",
   "metadata": {},
   "outputs": [],
   "source": [
    "#teams"
   ]
  },
  {
   "cell_type": "code",
   "execution_count": null,
   "id": "fb7e305d",
   "metadata": {},
   "outputs": [],
   "source": [
    "#delivery_df['city'].unique()"
   ]
  },
  {
   "cell_type": "code",
   "execution_count": null,
   "id": "99e08b54",
   "metadata": {},
   "outputs": [],
   "source": [
    "#import pickle\n",
    "#pickle.dump(pipe,open('pipe.pkl','wb'))"
   ]
  },
  {
   "cell_type": "code",
   "execution_count": null,
   "id": "c2a60526",
   "metadata": {},
   "outputs": [],
   "source": [
    "import numpy as np\n",
    "import pandas as pd\n",
    "from sklearn.compose import ColumnTransformer\n",
    "from sklearn.impute import SimpleImputer\n",
    "from sklearn.linear_model import LogisticRegression\n",
    "from sklearn.model_selection import train_test_split\n",
    "from sklearn.pipeline import Pipeline\n",
    "from sklearn.preprocessing import OneHotEncoder\n",
    "import pickle\n",
    "\n",
    "# Assuming you have the delivery and match dataframes\n",
    "# delivery = pd.read_csv('delivery.csv')\n",
    "# match = pd.read_csv('match.csv')\n",
    "\n",
    "# Aggregate the total scores for each match and inning\n",
    "total_score_df = delivery.groupby(['match_id', 'inning']).sum()['total_runs'].reset_index()\n",
    "total_score_df = total_score_df[total_score_df['inning'] == 1]\n",
    "match_df = match.merge(total_score_df[['match_id', 'total_runs']], left_on='id', right_on='match_id')\n",
    "match_df = match_df[match_df['dl_applied'] == 0]\n",
    "match_df = match_df[['match_id', 'city', 'winner', 'total_runs']]\n",
    "\n",
    "# Merge match_df with delivery to get delivery data for second innings\n",
    "delivery_df = match_df.merge(delivery, on='match_id')\n",
    "delivery_df = delivery_df[delivery_df['inning'] == 2]\n",
    "\n",
    "# Preprocess the delivery data\n",
    "delivery_df['total_runs_y'] = pd.to_numeric(delivery_df['total_runs_y'], errors='coerce')\n",
    "delivery_df['current_score'] = delivery_df.groupby('match_id')['total_runs_y'].cumsum()\n",
    "delivery_df['runs_left'] = delivery_df['total_runs_x'] - delivery_df['current_score']\n",
    "delivery_df['balls_left'] = 126 - (delivery_df['over'] * 6 + delivery_df['ball'])\n",
    "\n",
    "# Fill NaN values and preprocess player_dismissed\n",
    "delivery_df['player_dismissed'] = delivery_df['player_dismissed'].fillna(\"0\")\n",
    "delivery_df['player_dismissed'] = delivery_df['player_dismissed'].apply(lambda x: 0 if x == \"0\" else 1).astype(int)\n",
    "delivery_df['wickets'] = 10 - delivery_df.groupby('match_id')['player_dismissed'].cumsum()\n",
    "\n",
    "# Calculate crr and rrr\n",
    "delivery_df['crr'] = (delivery_df['current_score'] * 6) / (120 - delivery_df['balls_left'])\n",
    "delivery_df['rrr'] = (delivery_df['runs_left'] * 6) / delivery_df['balls_left']\n",
    "\n",
    "# Determine match result\n",
    "delivery_df['result'] = delivery_df.apply(lambda row: 1 if row['batting_team'] == row['winner'] else 0, axis=1)\n",
    "\n",
    "# Select final dataframe for model training\n",
    "final_df = delivery_df[['batting_team', 'bowling_team', 'city', 'runs_left', 'balls_left', 'wickets', 'total_runs_x', 'crr', 'rrr', 'result']]\n",
    "final_df = final_df.sample(final_df.shape[0])\n",
    "X = final_df.iloc[:, :-1]\n",
    "y = final_df.iloc[:, -1]\n",
    "\n",
    "# Convert categorical features to string type\n",
    "X['batting_team'] = X['batting_team'].astype(str)\n",
    "X['bowling_team'] = X['bowling_team'].astype(str)\n",
    "X['city'] = X['city'].astype(str)\n",
    "\n",
    "# Handle infinite values and NaNs in the dataset\n",
    "X = X.replace([np.inf, -np.inf], np.nan).fillna(0)\n",
    "\n",
    "# Separate numeric and categorical columns\n",
    "numeric_features = ['runs_left', 'balls_left', 'wickets', 'total_runs_x', 'crr', 'rrr']\n",
    "categorical_features = ['batting_team', 'bowling_team', 'city']\n",
    "\n",
    "# Define the pipeline with separate imputers and transformers\n",
    "numeric_transformer = Pipeline(steps=[\n",
    "    ('imputer', SimpleImputer(strategy='mean'))\n",
    "])\n",
    "\n",
    "categorical_transformer = Pipeline(steps=[\n",
    "    ('imputer', SimpleImputer(strategy='most_frequent')),\n",
    "    ('onehot', OneHotEncoder(sparse_output=False, drop='first'))\n",
    "])\n",
    "\n",
    "preprocessor = ColumnTransformer(\n",
    "    transformers=[\n",
    "        ('num', numeric_transformer, numeric_features),\n",
    "        ('cat', categorical_transformer, categorical_features)\n",
    "    ])\n",
    "\n",
    "pipe = Pipeline(steps=[\n",
    "    ('preprocessor', preprocessor),\n",
    "    ('classifier', LogisticRegression(solver='liblinear'))\n",
    "])\n",
    "\n",
    "# Split data into training and testing sets\n",
    "X_train, X_test, y_train, y_test = train_test_split(X, y, test_size=0.2, random_state=1)\n",
    "\n",
    "# Fit the pipeline to the training data\n",
    "pipe.fit(X_train, y_train)\n",
    "\n",
    "# Save the trained pipeline\n",
    "with open('pipe.pkl', 'wb') as file:\n",
    "    pickle.dump(pipe, file)\n"
   ]
  }
 ],
 "metadata": {
  "kernelspec": {
   "display_name": "Python 3",
   "language": "python",
   "name": "python3"
  },
  "language_info": {
   "codemirror_mode": {
    "name": "ipython",
    "version": 3
   },
   "file_extension": ".py",
   "mimetype": "text/x-python",
   "name": "python",
   "nbconvert_exporter": "python",
   "pygments_lexer": "ipython3",
   "version": "3.12.4"
  }
 },
 "nbformat": 4,
 "nbformat_minor": 5
}
